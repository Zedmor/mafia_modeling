{
 "cells": [
  {
   "cell_type": "code",
   "execution_count": 15,
   "id": "initial_id",
   "metadata": {
    "collapsed": true,
    "ExecuteTime": {
     "end_time": "2024-01-06T02:18:43.317845235Z",
     "start_time": "2024-01-06T02:18:43.304388157Z"
    }
   },
   "outputs": [],
   "source": [
    "import torch.nn.functional as F\n",
    "import torch"
   ]
  },
  {
   "cell_type": "code",
   "execution_count": 24,
   "outputs": [],
   "source": [
    "# Check if CUDA is available\n",
    "if torch.cuda.is_available():\n",
    "    # Set the default device to the first CUDA device\n",
    "    torch.cuda.set_device(0)  # You can change 0 to another device index if needed\n",
    "    device = torch.device('cuda')  # Alternatively, you can use 'cuda:0'\n",
    "else:\n",
    "    device = torch.device('cpu')\n"
   ],
   "metadata": {
    "collapsed": false,
    "ExecuteTime": {
     "end_time": "2024-01-06T02:22:12.587262438Z",
     "start_time": "2024-01-06T02:22:12.539759332Z"
    }
   },
   "id": "23395595f4890ee6"
  },
  {
   "cell_type": "code",
   "execution_count": 33,
   "outputs": [],
   "source": [
    "tensor_1 = torch.tensor([1,2,3], dtype=torch.float16, device=device)\n",
    "tensor_2 = torch.tensor([4,5,6], dtype=torch.float16, device=device)"
   ],
   "metadata": {
    "collapsed": false,
    "ExecuteTime": {
     "end_time": "2024-01-06T02:23:09.346550604Z",
     "start_time": "2024-01-06T02:23:08.993825058Z"
    }
   },
   "id": "38296ff12ae0cc25"
  },
  {
   "cell_type": "code",
   "execution_count": 34,
   "outputs": [],
   "source": [
    "tensor_1 = tensor_1.unsqueeze(dim=1)\n",
    "tensor_2 = tensor_2.unsqueeze(dim=1)"
   ],
   "metadata": {
    "collapsed": false,
    "ExecuteTime": {
     "end_time": "2024-01-06T02:23:09.656812071Z",
     "start_time": "2024-01-06T02:23:09.653167729Z"
    }
   },
   "id": "e68390d7e1734f01"
  },
  {
   "cell_type": "code",
   "execution_count": 35,
   "outputs": [],
   "source": [
    "loss_function = F.mse_loss"
   ],
   "metadata": {
    "collapsed": false,
    "ExecuteTime": {
     "end_time": "2024-01-06T02:23:10.964249181Z",
     "start_time": "2024-01-06T02:23:10.961866565Z"
    }
   },
   "id": "ae24a67f570d8a8d"
  },
  {
   "cell_type": "code",
   "execution_count": 36,
   "outputs": [],
   "source": [
    "result = loss_function(tensor_1, tensor_2)"
   ],
   "metadata": {
    "collapsed": false,
    "ExecuteTime": {
     "end_time": "2024-01-06T02:23:11.489613799Z",
     "start_time": "2024-01-06T02:23:11.486867919Z"
    }
   },
   "id": "828150f911582e1"
  },
  {
   "cell_type": "code",
   "execution_count": 38,
   "outputs": [
    {
     "data": {
      "text/plain": "tensor(9., device='cuda:0', dtype=torch.float16)"
     },
     "execution_count": 38,
     "metadata": {},
     "output_type": "execute_result"
    }
   ],
   "source": [
    "result"
   ],
   "metadata": {
    "collapsed": false,
    "ExecuteTime": {
     "end_time": "2024-01-06T02:23:25.489791152Z",
     "start_time": "2024-01-06T02:23:25.474523416Z"
    }
   },
   "id": "df8c9a89b738db00"
  },
  {
   "cell_type": "code",
   "execution_count": 39,
   "outputs": [
    {
     "data": {
      "text/plain": "torch.Size([3, 1])"
     },
     "execution_count": 39,
     "metadata": {},
     "output_type": "execute_result"
    }
   ],
   "source": [
    "tensor_1.size()"
   ],
   "metadata": {
    "collapsed": false,
    "ExecuteTime": {
     "end_time": "2024-01-06T02:24:39.641073604Z",
     "start_time": "2024-01-06T02:24:39.626348499Z"
    }
   },
   "id": "d6f0e4ae38e31d67"
  }
 ],
 "metadata": {
  "kernelspec": {
   "display_name": "Python 3",
   "language": "python",
   "name": "python3"
  },
  "language_info": {
   "codemirror_mode": {
    "name": "ipython",
    "version": 2
   },
   "file_extension": ".py",
   "mimetype": "text/x-python",
   "name": "python",
   "nbconvert_exporter": "python",
   "pygments_lexer": "ipython2",
   "version": "2.7.6"
  }
 },
 "nbformat": 4,
 "nbformat_minor": 5
}
